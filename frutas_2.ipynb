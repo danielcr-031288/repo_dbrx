{
 "cells": [
  {
   "cell_type": "code",
   "execution_count": 0,
   "metadata": {
    "application/vnd.databricks.v1+cell": {
     "cellMetadata": {
      "byteLimit": 2048000,
      "implicitDf": true,
      "rowLimit": 10000
     },
     "inputWidgets": {},
     "nuid": "f6b4067a-f468-469e-873b-57fde7af14f7",
     "showTitle": false,
     "tableResultSettingsMap": {},
     "title": ""
    }
   },
   "outputs": [],
   "source": [
    "%sql\n",
    "-- 1. Creamos una tabla temporal con datos de ejemplo\n",
    "CREATE OR REPLACE TEMPorary VIEW productos_por_categoria AS\n",
    "SELECT * FROM VALUES\n",
    "  ('Fruta', 'Manzana'),\n",
    "  ('Fruta', 'Banana'),\n",
    "  ('Fruta', 'Kiwi'),\n",
    "  ('Lácteos', 'Leche'),\n",
    "  ('Lácteos', 'Yogur'),\n",
    "  ('Lácteos', 'Queso'),\n",
    "  ('Helados', 'Vainilla'),\n",
    "  ('Helados', 'Fresa'),\n",
    "  ('Helados', 'Chocolate')\n",
    "AS t(categoria, producto);\n",
    "\n",
    "-- 2. Consultamos agrupando por categoría y concatenando los nombres de producto\n",
    "SELECT\n",
    "  categoria,\n",
    "  STRING_AGG(producto, ', ') AS lista_productos\n",
    "FROM productos_por_categoria\n",
    "GROUP BY categoria;\n"
   ]
  }
 ],
 "metadata": {
  "application/vnd.databricks.v1+notebook": {
   "computePreferences": null,
   "dashboards": [],
   "environmentMetadata": {
    "base_environment": "",
    "environment_version": "2"
   },
   "inputWidgetPreferences": null,
   "language": "python",
   "notebookMetadata": {
    "mostRecentlyExecutedCommandWithImplicitDF": {
     "commandId": 4780131904461694,
     "dataframes": [
      "_sqldf"
     ]
    },
    "pythonIndentUnit": 4
   },
   "notebookName": "frutas_2",
   "widgets": {}
  },
  "language_info": {
   "name": "python"
  }
 },
 "nbformat": 4,
 "nbformat_minor": 0
}
